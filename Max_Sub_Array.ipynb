{
  "nbformat": 4,
  "nbformat_minor": 0,
  "metadata": {
    "colab": {
      "provenance": []
    },
    "kernelspec": {
      "name": "python3",
      "display_name": "Python 3"
    },
    "language_info": {
      "name": "python"
    }
  },
  "cells": [
    {
      "cell_type": "code",
      "execution_count": 1,
      "metadata": {
        "id": "02b20bi6533a"
      },
      "outputs": [],
      "source": [
        "#Kadane's algorithm\n",
        "\n",
        "\"\"\"\n",
        "\n",
        "To find maximum sum of a subarray:\n",
        "\n",
        "Maintain 2 variables - current_sum, max_sum\n",
        "At position 0 of array, current_sum=max_sum=0th element\n",
        "start from position 1 of the array current_max=max(ith element, current_max+ith element).\n",
        "we are trying to find out if the maximum is coming from the existing subarray or we have to start a new sub array\n",
        "Now, max_so_far=max(max_so_far, current_max)\n",
        "\n",
        "Bonus: Try to return the subarray also\n",
        "\"\"\""
      ]
    },
    {
      "cell_type": "code",
      "source": [
        "#Refined solution\n",
        "\n",
        "lst=[-2, 1, -3, 4, -1, 2, 1, -5, 4]\n",
        "start=0\n",
        "end=0\n",
        "temp=0\n",
        "\n",
        "current_max=lst[0]\n",
        "overall_max=lst[0]\n",
        "for i in range(1,len(lst)):\n",
        "  if lst[i]>current_max+lst[i]:\n",
        "    #starting a new max sub-array\n",
        "    current_max=lst[i]\n",
        "    start,end=i,i\n",
        "  else:\n",
        "    current_max=current_max+lst[i]\n",
        "  if current_max>overall_max:\n",
        "    #Increment only end because the current max is still greater than overall max\n",
        "    overall_max=current_max\n",
        "    end=end+1\n",
        "print(overall_max,start,end)\n"
      ],
      "metadata": {
        "colab": {
          "base_uri": "https://localhost:8080/"
        },
        "id": "_T2TqMKACmHz",
        "outputId": "9f97eb35-da5a-4ccd-a325-36f1178be86b"
      },
      "execution_count": 30,
      "outputs": [
        {
          "output_type": "stream",
          "name": "stdout",
          "text": [
            "6 3 6\n"
          ]
        }
      ]
    }
  ]
}