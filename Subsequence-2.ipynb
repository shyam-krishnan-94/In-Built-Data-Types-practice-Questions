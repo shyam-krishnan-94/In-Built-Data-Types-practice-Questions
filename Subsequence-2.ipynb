{
  "nbformat": 4,
  "nbformat_minor": 0,
  "metadata": {
    "colab": {
      "provenance": []
    },
    "kernelspec": {
      "name": "python3",
      "display_name": "Python 3"
    },
    "language_info": {
      "name": "python"
    }
  },
  "cells": [
    {
      "cell_type": "code",
      "execution_count": 11,
      "metadata": {
        "id": "bWaB7fMqw9v5"
      },
      "outputs": [],
      "source": [
        "def is_subsequence(s, t):\n",
        "  #This is a crude solution\n",
        "    \"\"\"\n",
        "    Function to check if t is a subsequence of s.\n",
        "\n",
        "    Parameters:\n",
        "    s (str): The original string.\n",
        "    t (str): The target subsequence string.\n",
        "\n",
        "    Returns:\n",
        "    bool: True if t is a subsequence of s, False otherwise.\n",
        "    \"\"\"\n",
        "    # Your code here\n",
        "    counter=-1\n",
        "    found=0\n",
        "    for i in range(0,len(t)):\n",
        "        j=counter+1\n",
        "        while(j<len(s)):\n",
        "            if t[i]==s[j]:\n",
        "                found=found+1\n",
        "                counter=j\n",
        "                break\n",
        "            j=j+1\n",
        "    if found==len(t):\n",
        "        return True\n",
        "    else:\n",
        "        return False\n"
      ]
    },
    {
      "cell_type": "code",
      "source": [
        "def is_subsequence_good(s, t):\n",
        "  #This is a good solution\n",
        "    \"\"\"\n",
        "    Function to check if t is a subsequence of s.\n",
        "\n",
        "    Parameters:\n",
        "    s (str): The original string.\n",
        "    t (str): The target subsequence string.\n",
        "\n",
        "    Returns:\n",
        "    bool: True if t is a subsequence of s, False otherwise.\n",
        "    \"\"\"\n",
        "    # Your code here\n",
        "    i,j=0,0\n",
        "    while i<len(s) and j<len(t):\n",
        "      if s[i]==t[j]:\n",
        "        j=j+1\n",
        "      i=i+1\n",
        "    if j==len(t):\n",
        "      return True\n",
        "    else:\n",
        "      return False\n",
        "\n"
      ],
      "metadata": {
        "id": "v0VBCJeD3O_U"
      },
      "execution_count": 14,
      "outputs": []
    },
    {
      "cell_type": "code",
      "source": [
        "print(is_subsequence_good(\"abcdef\",\"abcdef\"))"
      ],
      "metadata": {
        "colab": {
          "base_uri": "https://localhost:8080/"
        },
        "id": "FTCVvsVIxXT5",
        "outputId": "54f0e546-5e02-4eee-d5e1-45212becdfe9"
      },
      "execution_count": 17,
      "outputs": [
        {
          "output_type": "stream",
          "name": "stdout",
          "text": [
            "True\n"
          ]
        }
      ]
    }
  ]
}