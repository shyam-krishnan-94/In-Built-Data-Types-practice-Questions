{
  "nbformat": 4,
  "nbformat_minor": 0,
  "metadata": {
    "colab": {
      "provenance": []
    },
    "kernelspec": {
      "name": "python3",
      "display_name": "Python 3"
    },
    "language_info": {
      "name": "python"
    }
  },
  "cells": [
    {
      "cell_type": "code",
      "execution_count": 4,
      "metadata": {
        "id": "MVFvB7QD8f-l"
      },
      "outputs": [],
      "source": [
        "def longest_word_length(s):\n",
        "    \"\"\"\n",
        "    Function to find the length of the longest word in a string without using built-in functions.\n",
        "\n",
        "    Parameters:\n",
        "    s (str): The input string.\n",
        "\n",
        "    Returns:\n",
        "    int: The length of the longest word.\n",
        "    \"\"\"\n",
        "    # Your code here\n",
        "    #Single word\n",
        "\n",
        "    #Revisit\n",
        "    start=0\n",
        "    word_length=0\n",
        "    max_word_length=0\n",
        "    if \" \" not in s:\n",
        "        max_word_length=len(s)\n",
        "    else:\n",
        "        while start<len(s):\n",
        "            if s[start]!=\" \":\n",
        "                word_length=word_length+1\n",
        "                start=start+1\n",
        "            else:\n",
        "              start=start+1\n",
        "              if max_word_length<word_length:\n",
        "                max_word_length=word_length\n",
        "              word_length=0\n",
        "    return max_word_length\n",
        "\n"
      ]
    },
    {
      "cell_type": "code",
      "source": [
        "s=\"The good dog\"\n",
        "print(longest_word_length(s))"
      ],
      "metadata": {
        "colab": {
          "base_uri": "https://localhost:8080/"
        },
        "id": "YZp0mOsl9XL9",
        "outputId": "fed7a8e4-ed6a-4613-9b18-b1d8c79f2d6e"
      },
      "execution_count": 6,
      "outputs": [
        {
          "output_type": "stream",
          "name": "stdout",
          "text": [
            "4\n"
          ]
        }
      ]
    }
  ]
}