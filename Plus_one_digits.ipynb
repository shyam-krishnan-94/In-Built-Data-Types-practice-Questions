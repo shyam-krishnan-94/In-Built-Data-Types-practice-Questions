{
  "nbformat": 4,
  "nbformat_minor": 0,
  "metadata": {
    "colab": {
      "provenance": []
    },
    "kernelspec": {
      "name": "python3",
      "display_name": "Python 3"
    },
    "language_info": {
      "name": "python"
    }
  },
  "cells": [
    {
      "cell_type": "code",
      "execution_count": 9,
      "metadata": {
        "id": "2M1X8aOC2zpx"
      },
      "outputs": [],
      "source": [
        "def plus_one(digits):\n",
        "    \"\"\"\n",
        "    Function to increment a large integer represented as a list of digits by one.\n",
        "    :param digits: List[int] -> List of digits representing the large integer\n",
        "    :return: List[int] -> The list representing the integer after incrementing\n",
        "    \"\"\"\n",
        "    # TODO: Implement this function\n",
        "    for i in range(len(digits)-1,-1,-1):\n",
        "        if digits[i]<9:\n",
        "            digits[i]=digits[i]+1\n",
        "            break\n",
        "        else:\n",
        "            digits[i]=0\n",
        "    if digits[0]==0:\n",
        "        digits.insert(0,1)\n",
        "        return digits\n",
        "    return digits\n",
        "    pass\n"
      ]
    },
    {
      "cell_type": "code",
      "source": [
        "print(plus_one([9,9,9]))"
      ],
      "metadata": {
        "colab": {
          "base_uri": "https://localhost:8080/"
        },
        "id": "yRrwW3ap24mR",
        "outputId": "50db7b6e-3770-43dd-91a0-b26506ba5a84"
      },
      "execution_count": 12,
      "outputs": [
        {
          "output_type": "stream",
          "name": "stdout",
          "text": [
            "[1, 0, 0, 0]\n"
          ]
        }
      ]
    }
  ]
}