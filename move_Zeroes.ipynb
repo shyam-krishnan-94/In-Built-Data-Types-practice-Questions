{
  "nbformat": 4,
  "nbformat_minor": 0,
  "metadata": {
    "colab": {
      "provenance": []
    },
    "kernelspec": {
      "name": "python3",
      "display_name": "Python 3"
    },
    "language_info": {
      "name": "python"
    }
  },
  "cells": [
    {
      "cell_type": "code",
      "execution_count": 18,
      "metadata": {
        "id": "aXMr1_tv9_PO"
      },
      "outputs": [],
      "source": [
        "def move_zeroes(nums):\n",
        "    \"\"\"\n",
        "    Function to move all 0's to the end of the array while maintaining the order of non-zero elements.\n",
        "    :param nums: List[int] -> A list of integers\n",
        "    :return: None -> The list is modified in place\n",
        "    \"\"\"\n",
        "    # TODO: Implement this function\n",
        "    i=0\n",
        "    while i<len(nums):\n",
        "        if nums[i]==0:\n",
        "            j=i+1\n",
        "            while j<len(nums):\n",
        "                if nums[j]!=0:\n",
        "                    nums[i],nums[j]=nums[j],nums[i]\n",
        "                    break\n",
        "                j=j+1\n",
        "        i=i+1\n",
        "    return(nums)\n",
        "    pass\n"
      ]
    },
    {
      "cell_type": "code",
      "source": [
        "print(move_zeroes([1,0,3,0,4]))"
      ],
      "metadata": {
        "colab": {
          "base_uri": "https://localhost:8080/"
        },
        "id": "8_bPhS4JKH3m",
        "outputId": "296473c1-bb3b-4c99-a4c1-c68fe123b846"
      },
      "execution_count": 19,
      "outputs": [
        {
          "output_type": "stream",
          "name": "stdout",
          "text": [
            "[1, 3, 4, 0, 0]\n"
          ]
        }
      ]
    }
  ]
}