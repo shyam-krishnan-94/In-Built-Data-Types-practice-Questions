{
  "nbformat": 4,
  "nbformat_minor": 0,
  "metadata": {
    "colab": {
      "provenance": []
    },
    "kernelspec": {
      "name": "python3",
      "display_name": "Python 3"
    },
    "language_info": {
      "name": "python"
    }
  },
  "cells": [
    {
      "cell_type": "code",
      "execution_count": 11,
      "metadata": {
        "id": "MNVYoSzO3zvP"
      },
      "outputs": [],
      "source": [
        "def merge_lists_to_dictionary(keys, values):\n",
        "    # Your code goes here\n",
        "    if len(keys)< len(values):\n",
        "      return False\n",
        "    elif len(keys)==len(values):\n",
        "      result=dict()\n",
        "      for i in range(0,len(values)):\n",
        "        result[keys[i]]=values[i]\n",
        "      return result\n",
        "    else:\n",
        "        return False"
      ]
    },
    {
      "cell_type": "code",
      "source": [
        "keys=['a','b','c','d']\n",
        "values=[1,2,3]\n",
        "print(merge_lists_to_dictionary(keys, values))"
      ],
      "metadata": {
        "colab": {
          "base_uri": "https://localhost:8080/"
        },
        "id": "zKd0eEqC5Zig",
        "outputId": "8a74e166-249b-4a0b-c958-f3c7df6d38f4"
      },
      "execution_count": 12,
      "outputs": [
        {
          "output_type": "stream",
          "name": "stdout",
          "text": [
            "False\n"
          ]
        }
      ]
    }
  ]
}