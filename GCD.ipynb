{
  "nbformat": 4,
  "nbformat_minor": 0,
  "metadata": {
    "colab": {
      "provenance": []
    },
    "kernelspec": {
      "name": "python3",
      "display_name": "Python 3"
    },
    "language_info": {
      "name": "python"
    }
  },
  "cells": [
    {
      "cell_type": "code",
      "source": [
        "from os import major\n",
        "def gcd(n, m):\n",
        "    \"\"\"\n",
        "    Function to find the GCD of two integers without using built-in functions and recursion.\n",
        "\n",
        "    Parameters:\n",
        "    n (int): The first integer.\n",
        "    m (int): The second integer.\n",
        "\n",
        "    Returns:\n",
        "    int: The GCD of n and m.\n",
        "    \"\"\"\n",
        "    # Your code here\n",
        "    n=abs(n)\n",
        "    m=abs(m)\n",
        "    while n>0 and m>0:\n",
        "      q=n//m\n",
        "      r=n%m\n",
        "      n=m\n",
        "      m=r\n",
        "    if n==0:\n",
        "      return m\n",
        "    elif m==0:\n",
        "      return n"
      ],
      "metadata": {
        "id": "9G1rO7GsNLQL"
      },
      "execution_count": 20,
      "outputs": []
    },
    {
      "cell_type": "code",
      "source": [
        "print(gcd(13,7))"
      ],
      "metadata": {
        "colab": {
          "base_uri": "https://localhost:8080/"
        },
        "id": "t_AG34Axz_2w",
        "outputId": "94acd558-73b5-4aa4-c04c-a319ad6df4d0"
      },
      "execution_count": 24,
      "outputs": [
        {
          "output_type": "stream",
          "name": "stdout",
          "text": [
            "1\n"
          ]
        }
      ]
    }
  ]
}