{
  "nbformat": 4,
  "nbformat_minor": 0,
  "metadata": {
    "colab": {
      "provenance": []
    },
    "kernelspec": {
      "name": "python3",
      "display_name": "Python 3"
    },
    "language_info": {
      "name": "python"
    }
  },
  "cells": [
    {
      "cell_type": "code",
      "execution_count": null,
      "metadata": {
        "id": "pcH3pALUzO2Y"
      },
      "outputs": [],
      "source": [
        "#Crude solution\n",
        "def rotate_list(lst, k):\n",
        "    # Your code goes here\n",
        "    \"\"\"\n",
        "    Identify the len-k elements at the end and store it in a list\n",
        "    traverse the element list backwards to append at the start of the list by tracking the entry and exit point elements by shifting them 1 at a time\n",
        "    \"\"\"\n",
        "    if len(lst)==0 or k>len(lst):\n",
        "        return lst\n",
        "    else:\n",
        "      element=[]\n",
        "      for i in range(len(lst)-k,len(lst)):\n",
        "        element.append(lst[i])\n",
        "      for i in range(len(element)-1,-1,-1):\n",
        "        for j in range(0,len(lst)):\n",
        "          if j==0:\n",
        "            enter=element[i]\n",
        "            exit=lst[j]\n",
        "            lst[j]=enter\n",
        "          else:\n",
        "            enter=exit\n",
        "            exit=lst[j]\n",
        "            lst[j]=enter\n",
        "      return lst\n"
      ]
    },
    {
      "cell_type": "code",
      "source": [
        "lst=[1,2,3,4,5]\n",
        "print(rotate_list(lst, 4))"
      ],
      "metadata": {
        "colab": {
          "base_uri": "https://localhost:8080/"
        },
        "id": "yjVRGyo2zeAf",
        "outputId": "4faf12f1-b43a-4d87-c835-9060eceb8558"
      },
      "execution_count": null,
      "outputs": [
        {
          "output_type": "stream",
          "name": "stdout",
          "text": [
            "[2, 3, 4, 5, 1]\n"
          ]
        }
      ]
    },
    {
      "cell_type": "code",
      "source": [
        "#simplified solution using built in functions\n",
        "def rotate_list_simple(lst, k):\n",
        "    # Your code goes here\n",
        "    \"\"\"\n",
        "    Loop over the final k elements, pop them 1 by 1 and insert towards the beginning (pop and insert function)\n",
        "\n",
        "    \"\"\"\n",
        "    start=len(lst)-k\n",
        "    for i in range(start,len(lst)):\n",
        "      lst.insert(0,lst.pop())\n",
        "    return lst\n"
      ],
      "metadata": {
        "id": "mGTgnQ7Bla_I"
      },
      "execution_count": 18,
      "outputs": []
    },
    {
      "cell_type": "code",
      "source": [
        "lst=[1,2,3,4,5]\n",
        "print(rotate_list_simple(lst, 3))"
      ],
      "metadata": {
        "colab": {
          "base_uri": "https://localhost:8080/"
        },
        "id": "OzkCfmJVnOhX",
        "outputId": "9c2f1a8e-9ce9-4c52-b5ce-535e2d4090c9"
      },
      "execution_count": 19,
      "outputs": [
        {
          "output_type": "stream",
          "name": "stdout",
          "text": [
            "[3, 4, 5, 1, 2]\n"
          ]
        }
      ]
    }
  ]
}